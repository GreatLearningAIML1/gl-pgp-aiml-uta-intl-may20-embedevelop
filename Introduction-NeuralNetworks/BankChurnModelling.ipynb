{
 "metadata": {
  "language_info": {
   "codemirror_mode": {
    "name": "ipython",
    "version": 3
   },
   "file_extension": ".py",
   "mimetype": "text/x-python",
   "name": "python",
   "nbconvert_exporter": "python",
   "pygments_lexer": "ipython3",
   "version": "3.7.6-final"
  },
  "orig_nbformat": 2,
  "kernelspec": {
   "name": "Python 3.7.6 64-bit ('base': conda)",
   "display_name": "Python 3.7.6 64-bit ('base': conda)",
   "metadata": {
    "interpreter": {
     "hash": "183bbf6827d058c2a2fb0f4acdc0420849dda2b4380af0e437e38c64d798d8b7"
    }
   }
  }
 },
 "nbformat": 4,
 "nbformat_minor": 2,
 "cells": [
  {
   "source": [
    "# Bank Churn Prediction\n",
    "\n",
    "## Objective:\n",
    "Given a Bank customer, build a neural network based classifier that can determine whether they will leave or not in the next 6 months\n",
    "\n",
    "## Context:\n",
    "Businesses like banks which provide service have to worry about problem of 'Churn' i.e. customers leaving and joining another service provider. It is important to understand which aspects of the service influence a customer's decision in this regard. Management can concentrate efforts on improvement of service, keeping in mind these priorities."
   ],
   "cell_type": "markdown",
   "metadata": {}
  },
  {
   "source": [
    "### 1. Read the data set"
   ],
   "cell_type": "markdown",
   "metadata": {}
  },
  {
   "cell_type": "code",
   "execution_count": 7,
   "metadata": {},
   "outputs": [
    {
     "output_type": "stream",
     "name": "stdout",
     "text": [
      "2.0.0\n"
     ]
    }
   ],
   "source": [
    "import tensorflow as tf\n",
    "print(tf.__version__)"
   ]
  },
  {
   "cell_type": "code",
   "execution_count": 8,
   "metadata": {},
   "outputs": [],
   "source": [
    "import pandas as pd\n",
    "import numpy as np\n",
    "from sklearn.model_selection import train_test_split\n",
    "from sklearn import preprocessing\n",
    "from tensorflow.keras.models import Sequential\n",
    "from tensorflow.keras.layers import Dense, Dropout, BatchNormalization\n",
    "from sklearn.metrics import accuracy_score, confusion_matrix, precision_score, recall_score, f1_score, precision_recall_curve, auc\n",
    "import matplotlib.pyplot as plt\n",
    "from tensorflow.keras import optimizers\n",
    "import warnings\n",
    "warnings.filterwarnings(\"ignore\")"
   ]
  },
  {
   "cell_type": "code",
   "execution_count": 9,
   "metadata": {},
   "outputs": [
    {
     "output_type": "execute_result",
     "data": {
      "text/plain": [
       "   RowNumber  CustomerId   Surname  CreditScore Geography  Gender  Age  \\\n",
       "0          1    15634602  Hargrave          619    France  Female   42   \n",
       "1          2    15647311      Hill          608     Spain  Female   41   \n",
       "2          3    15619304      Onio          502    France  Female   42   \n",
       "3          4    15701354      Boni          699    France  Female   39   \n",
       "4          5    15737888  Mitchell          850     Spain  Female   43   \n",
       "\n",
       "   Tenure    Balance  NumOfProducts  HasCrCard  IsActiveMember  \\\n",
       "0       2       0.00              1          1               1   \n",
       "1       1   83807.86              1          0               1   \n",
       "2       8  159660.80              3          1               0   \n",
       "3       1       0.00              2          0               0   \n",
       "4       2  125510.82              1          1               1   \n",
       "\n",
       "   EstimatedSalary  Exited  \n",
       "0        101348.88       1  \n",
       "1        112542.58       0  \n",
       "2        113931.57       1  \n",
       "3         93826.63       0  \n",
       "4         79084.10       0  "
      ],
      "text/html": "<div>\n<style scoped>\n    .dataframe tbody tr th:only-of-type {\n        vertical-align: middle;\n    }\n\n    .dataframe tbody tr th {\n        vertical-align: top;\n    }\n\n    .dataframe thead th {\n        text-align: right;\n    }\n</style>\n<table border=\"1\" class=\"dataframe\">\n  <thead>\n    <tr style=\"text-align: right;\">\n      <th></th>\n      <th>RowNumber</th>\n      <th>CustomerId</th>\n      <th>Surname</th>\n      <th>CreditScore</th>\n      <th>Geography</th>\n      <th>Gender</th>\n      <th>Age</th>\n      <th>Tenure</th>\n      <th>Balance</th>\n      <th>NumOfProducts</th>\n      <th>HasCrCard</th>\n      <th>IsActiveMember</th>\n      <th>EstimatedSalary</th>\n      <th>Exited</th>\n    </tr>\n  </thead>\n  <tbody>\n    <tr>\n      <th>0</th>\n      <td>1</td>\n      <td>15634602</td>\n      <td>Hargrave</td>\n      <td>619</td>\n      <td>France</td>\n      <td>Female</td>\n      <td>42</td>\n      <td>2</td>\n      <td>0.00</td>\n      <td>1</td>\n      <td>1</td>\n      <td>1</td>\n      <td>101348.88</td>\n      <td>1</td>\n    </tr>\n    <tr>\n      <th>1</th>\n      <td>2</td>\n      <td>15647311</td>\n      <td>Hill</td>\n      <td>608</td>\n      <td>Spain</td>\n      <td>Female</td>\n      <td>41</td>\n      <td>1</td>\n      <td>83807.86</td>\n      <td>1</td>\n      <td>0</td>\n      <td>1</td>\n      <td>112542.58</td>\n      <td>0</td>\n    </tr>\n    <tr>\n      <th>2</th>\n      <td>3</td>\n      <td>15619304</td>\n      <td>Onio</td>\n      <td>502</td>\n      <td>France</td>\n      <td>Female</td>\n      <td>42</td>\n      <td>8</td>\n      <td>159660.80</td>\n      <td>3</td>\n      <td>1</td>\n      <td>0</td>\n      <td>113931.57</td>\n      <td>1</td>\n    </tr>\n    <tr>\n      <th>3</th>\n      <td>4</td>\n      <td>15701354</td>\n      <td>Boni</td>\n      <td>699</td>\n      <td>France</td>\n      <td>Female</td>\n      <td>39</td>\n      <td>1</td>\n      <td>0.00</td>\n      <td>2</td>\n      <td>0</td>\n      <td>0</td>\n      <td>93826.63</td>\n      <td>0</td>\n    </tr>\n    <tr>\n      <th>4</th>\n      <td>5</td>\n      <td>15737888</td>\n      <td>Mitchell</td>\n      <td>850</td>\n      <td>Spain</td>\n      <td>Female</td>\n      <td>43</td>\n      <td>2</td>\n      <td>125510.82</td>\n      <td>1</td>\n      <td>1</td>\n      <td>1</td>\n      <td>79084.10</td>\n      <td>0</td>\n    </tr>\n  </tbody>\n</table>\n</div>"
     },
     "metadata": {},
     "execution_count": 9
    }
   ],
   "source": [
    "# Reading the dataset\n",
    "data = pd.read_csv('bank.csv')\n",
    "data.head()"
   ]
  },
  {
   "cell_type": "code",
   "execution_count": 10,
   "metadata": {},
   "outputs": [
    {
     "output_type": "execute_result",
     "data": {
      "text/plain": [
       "(10000, 14)"
      ]
     },
     "metadata": {},
     "execution_count": 10
    }
   ],
   "source": [
    "data.shape"
   ]
  },
  {
   "cell_type": "code",
   "execution_count": 11,
   "metadata": {},
   "outputs": [
    {
     "output_type": "execute_result",
     "data": {
      "text/plain": [
       "                   count          mean           std          min  \\\n",
       "RowNumber        10000.0  5.000500e+03   2886.895680         1.00   \n",
       "CustomerId       10000.0  1.569094e+07  71936.186123  15565701.00   \n",
       "CreditScore      10000.0  6.505288e+02     96.653299       350.00   \n",
       "Age              10000.0  3.892180e+01     10.487806        18.00   \n",
       "Tenure           10000.0  5.012800e+00      2.892174         0.00   \n",
       "Balance          10000.0  7.648589e+04  62397.405202         0.00   \n",
       "NumOfProducts    10000.0  1.530200e+00      0.581654         1.00   \n",
       "HasCrCard        10000.0  7.055000e-01      0.455840         0.00   \n",
       "IsActiveMember   10000.0  5.151000e-01      0.499797         0.00   \n",
       "EstimatedSalary  10000.0  1.000902e+05  57510.492818        11.58   \n",
       "Exited           10000.0  2.037000e-01      0.402769         0.00   \n",
       "\n",
       "                         25%           50%           75%          max  \n",
       "RowNumber            2500.75  5.000500e+03  7.500250e+03     10000.00  \n",
       "CustomerId       15628528.25  1.569074e+07  1.575323e+07  15815690.00  \n",
       "CreditScore           584.00  6.520000e+02  7.180000e+02       850.00  \n",
       "Age                    32.00  3.700000e+01  4.400000e+01        92.00  \n",
       "Tenure                  3.00  5.000000e+00  7.000000e+00        10.00  \n",
       "Balance                 0.00  9.719854e+04  1.276442e+05    250898.09  \n",
       "NumOfProducts           1.00  1.000000e+00  2.000000e+00         4.00  \n",
       "HasCrCard               0.00  1.000000e+00  1.000000e+00         1.00  \n",
       "IsActiveMember          0.00  1.000000e+00  1.000000e+00         1.00  \n",
       "EstimatedSalary     51002.11  1.001939e+05  1.493882e+05    199992.48  \n",
       "Exited                  0.00  0.000000e+00  0.000000e+00         1.00  "
      ],
      "text/html": "<div>\n<style scoped>\n    .dataframe tbody tr th:only-of-type {\n        vertical-align: middle;\n    }\n\n    .dataframe tbody tr th {\n        vertical-align: top;\n    }\n\n    .dataframe thead th {\n        text-align: right;\n    }\n</style>\n<table border=\"1\" class=\"dataframe\">\n  <thead>\n    <tr style=\"text-align: right;\">\n      <th></th>\n      <th>count</th>\n      <th>mean</th>\n      <th>std</th>\n      <th>min</th>\n      <th>25%</th>\n      <th>50%</th>\n      <th>75%</th>\n      <th>max</th>\n    </tr>\n  </thead>\n  <tbody>\n    <tr>\n      <th>RowNumber</th>\n      <td>10000.0</td>\n      <td>5.000500e+03</td>\n      <td>2886.895680</td>\n      <td>1.00</td>\n      <td>2500.75</td>\n      <td>5.000500e+03</td>\n      <td>7.500250e+03</td>\n      <td>10000.00</td>\n    </tr>\n    <tr>\n      <th>CustomerId</th>\n      <td>10000.0</td>\n      <td>1.569094e+07</td>\n      <td>71936.186123</td>\n      <td>15565701.00</td>\n      <td>15628528.25</td>\n      <td>1.569074e+07</td>\n      <td>1.575323e+07</td>\n      <td>15815690.00</td>\n    </tr>\n    <tr>\n      <th>CreditScore</th>\n      <td>10000.0</td>\n      <td>6.505288e+02</td>\n      <td>96.653299</td>\n      <td>350.00</td>\n      <td>584.00</td>\n      <td>6.520000e+02</td>\n      <td>7.180000e+02</td>\n      <td>850.00</td>\n    </tr>\n    <tr>\n      <th>Age</th>\n      <td>10000.0</td>\n      <td>3.892180e+01</td>\n      <td>10.487806</td>\n      <td>18.00</td>\n      <td>32.00</td>\n      <td>3.700000e+01</td>\n      <td>4.400000e+01</td>\n      <td>92.00</td>\n    </tr>\n    <tr>\n      <th>Tenure</th>\n      <td>10000.0</td>\n      <td>5.012800e+00</td>\n      <td>2.892174</td>\n      <td>0.00</td>\n      <td>3.00</td>\n      <td>5.000000e+00</td>\n      <td>7.000000e+00</td>\n      <td>10.00</td>\n    </tr>\n    <tr>\n      <th>Balance</th>\n      <td>10000.0</td>\n      <td>7.648589e+04</td>\n      <td>62397.405202</td>\n      <td>0.00</td>\n      <td>0.00</td>\n      <td>9.719854e+04</td>\n      <td>1.276442e+05</td>\n      <td>250898.09</td>\n    </tr>\n    <tr>\n      <th>NumOfProducts</th>\n      <td>10000.0</td>\n      <td>1.530200e+00</td>\n      <td>0.581654</td>\n      <td>1.00</td>\n      <td>1.00</td>\n      <td>1.000000e+00</td>\n      <td>2.000000e+00</td>\n      <td>4.00</td>\n    </tr>\n    <tr>\n      <th>HasCrCard</th>\n      <td>10000.0</td>\n      <td>7.055000e-01</td>\n      <td>0.455840</td>\n      <td>0.00</td>\n      <td>0.00</td>\n      <td>1.000000e+00</td>\n      <td>1.000000e+00</td>\n      <td>1.00</td>\n    </tr>\n    <tr>\n      <th>IsActiveMember</th>\n      <td>10000.0</td>\n      <td>5.151000e-01</td>\n      <td>0.499797</td>\n      <td>0.00</td>\n      <td>0.00</td>\n      <td>1.000000e+00</td>\n      <td>1.000000e+00</td>\n      <td>1.00</td>\n    </tr>\n    <tr>\n      <th>EstimatedSalary</th>\n      <td>10000.0</td>\n      <td>1.000902e+05</td>\n      <td>57510.492818</td>\n      <td>11.58</td>\n      <td>51002.11</td>\n      <td>1.001939e+05</td>\n      <td>1.493882e+05</td>\n      <td>199992.48</td>\n    </tr>\n    <tr>\n      <th>Exited</th>\n      <td>10000.0</td>\n      <td>2.037000e-01</td>\n      <td>0.402769</td>\n      <td>0.00</td>\n      <td>0.00</td>\n      <td>0.000000e+00</td>\n      <td>0.000000e+00</td>\n      <td>1.00</td>\n    </tr>\n  </tbody>\n</table>\n</div>"
     },
     "metadata": {},
     "execution_count": 11
    }
   ],
   "source": [
    "# Not necessary, but to have a basic understanding of data distribution\n",
    "data.describe().transpose()"
   ]
  },
  {
   "cell_type": "code",
   "execution_count": 12,
   "metadata": {},
   "outputs": [
    {
     "output_type": "execute_result",
     "data": {
      "text/plain": [
       "RowNumber          0\n",
       "CustomerId         0\n",
       "Surname            0\n",
       "CreditScore        0\n",
       "Geography          0\n",
       "Gender             0\n",
       "Age                0\n",
       "Tenure             0\n",
       "Balance            0\n",
       "NumOfProducts      0\n",
       "HasCrCard          0\n",
       "IsActiveMember     0\n",
       "EstimatedSalary    0\n",
       "Exited             0\n",
       "dtype: int64"
      ]
     },
     "metadata": {},
     "execution_count": 12
    }
   ],
   "source": [
    "# Null values\n",
    "data.isnull().sum()"
   ]
  },
  {
   "source": [
    "### 2. Drop the columns which are unique for all users like IDs"
   ],
   "cell_type": "markdown",
   "metadata": {}
  },
  {
   "cell_type": "code",
   "execution_count": 13,
   "metadata": {},
   "outputs": [
    {
     "output_type": "execute_result",
     "data": {
      "text/plain": [
       "   CreditScore Geography  Gender  Age  Tenure    Balance  NumOfProducts  \\\n",
       "0          619    France  Female   42       2       0.00              1   \n",
       "1          608     Spain  Female   41       1   83807.86              1   \n",
       "2          502    France  Female   42       8  159660.80              3   \n",
       "3          699    France  Female   39       1       0.00              2   \n",
       "4          850     Spain  Female   43       2  125510.82              1   \n",
       "\n",
       "   HasCrCard  IsActiveMember  EstimatedSalary  Exited  \n",
       "0          1               1        101348.88       1  \n",
       "1          0               1        112542.58       0  \n",
       "2          1               0        113931.57       1  \n",
       "3          0               0         93826.63       0  \n",
       "4          1               1         79084.10       0  "
      ],
      "text/html": "<div>\n<style scoped>\n    .dataframe tbody tr th:only-of-type {\n        vertical-align: middle;\n    }\n\n    .dataframe tbody tr th {\n        vertical-align: top;\n    }\n\n    .dataframe thead th {\n        text-align: right;\n    }\n</style>\n<table border=\"1\" class=\"dataframe\">\n  <thead>\n    <tr style=\"text-align: right;\">\n      <th></th>\n      <th>CreditScore</th>\n      <th>Geography</th>\n      <th>Gender</th>\n      <th>Age</th>\n      <th>Tenure</th>\n      <th>Balance</th>\n      <th>NumOfProducts</th>\n      <th>HasCrCard</th>\n      <th>IsActiveMember</th>\n      <th>EstimatedSalary</th>\n      <th>Exited</th>\n    </tr>\n  </thead>\n  <tbody>\n    <tr>\n      <th>0</th>\n      <td>619</td>\n      <td>France</td>\n      <td>Female</td>\n      <td>42</td>\n      <td>2</td>\n      <td>0.00</td>\n      <td>1</td>\n      <td>1</td>\n      <td>1</td>\n      <td>101348.88</td>\n      <td>1</td>\n    </tr>\n    <tr>\n      <th>1</th>\n      <td>608</td>\n      <td>Spain</td>\n      <td>Female</td>\n      <td>41</td>\n      <td>1</td>\n      <td>83807.86</td>\n      <td>1</td>\n      <td>0</td>\n      <td>1</td>\n      <td>112542.58</td>\n      <td>0</td>\n    </tr>\n    <tr>\n      <th>2</th>\n      <td>502</td>\n      <td>France</td>\n      <td>Female</td>\n      <td>42</td>\n      <td>8</td>\n      <td>159660.80</td>\n      <td>3</td>\n      <td>1</td>\n      <td>0</td>\n      <td>113931.57</td>\n      <td>1</td>\n    </tr>\n    <tr>\n      <th>3</th>\n      <td>699</td>\n      <td>France</td>\n      <td>Female</td>\n      <td>39</td>\n      <td>1</td>\n      <td>0.00</td>\n      <td>2</td>\n      <td>0</td>\n      <td>0</td>\n      <td>93826.63</td>\n      <td>0</td>\n    </tr>\n    <tr>\n      <th>4</th>\n      <td>850</td>\n      <td>Spain</td>\n      <td>Female</td>\n      <td>43</td>\n      <td>2</td>\n      <td>125510.82</td>\n      <td>1</td>\n      <td>1</td>\n      <td>1</td>\n      <td>79084.10</td>\n      <td>0</td>\n    </tr>\n  </tbody>\n</table>\n</div>"
     },
     "metadata": {},
     "execution_count": 13
    }
   ],
   "source": [
    "# The following colums are unique for all users, therefore do not play any role in building the model\n",
    "data.drop(\"RowNumber\", axis = 1, inplace = True)\n",
    "data.drop(\"CustomerId\", axis = 1, inplace = True)\n",
    "data.drop(\"Surname\", axis = 1, inplace = True)\n",
    "data.head()"
   ]
  },
  {
   "source": [
    "### 3. Distinguish the features and target variable"
   ],
   "cell_type": "markdown",
   "metadata": {}
  },
  {
   "cell_type": "code",
   "execution_count": 14,
   "metadata": {},
   "outputs": [],
   "source": [
    "y_data = data.iloc[:, -1]"
   ]
  },
  {
   "cell_type": "code",
   "execution_count": 15,
   "metadata": {},
   "outputs": [],
   "source": [
    "data.drop(\"Exited\", axis = 1, inplace = True)"
   ]
  },
  {
   "source": [
    "### Creating Dummy Variables"
   ],
   "cell_type": "markdown",
   "metadata": {}
  },
  {
   "cell_type": "code",
   "execution_count": 16,
   "metadata": {},
   "outputs": [],
   "source": [
    "gen = pd.get_dummies(data['Geography'], prefix='Geography', drop_first=True)\n",
    "data = pd.concat([data, gen], axis = 1)\n",
    "data.drop(\"Geography\", axis = 1, inplace = True)"
   ]
  },
  {
   "cell_type": "code",
   "execution_count": 17,
   "metadata": {},
   "outputs": [],
   "source": [
    "gen = pd.get_dummies(data['Gender'], prefix='Gender', drop_first=True)\n",
    "data = pd.concat([data, gen], axis = 1)\n",
    "data.drop(\"Gender\", axis = 1, inplace = True)"
   ]
  },
  {
   "cell_type": "code",
   "execution_count": 18,
   "metadata": {},
   "outputs": [
    {
     "output_type": "execute_result",
     "data": {
      "text/plain": [
       "   CreditScore  Age  Tenure    Balance  NumOfProducts  HasCrCard  \\\n",
       "0          619   42       2       0.00              1          1   \n",
       "1          608   41       1   83807.86              1          0   \n",
       "2          502   42       8  159660.80              3          1   \n",
       "3          699   39       1       0.00              2          0   \n",
       "4          850   43       2  125510.82              1          1   \n",
       "\n",
       "   IsActiveMember  EstimatedSalary  Geography_Germany  Geography_Spain  \\\n",
       "0               1        101348.88                  0                0   \n",
       "1               1        112542.58                  0                1   \n",
       "2               0        113931.57                  0                0   \n",
       "3               0         93826.63                  0                0   \n",
       "4               1         79084.10                  0                1   \n",
       "\n",
       "   Gender_Male  \n",
       "0            0  \n",
       "1            0  \n",
       "2            0  \n",
       "3            0  \n",
       "4            0  "
      ],
      "text/html": "<div>\n<style scoped>\n    .dataframe tbody tr th:only-of-type {\n        vertical-align: middle;\n    }\n\n    .dataframe tbody tr th {\n        vertical-align: top;\n    }\n\n    .dataframe thead th {\n        text-align: right;\n    }\n</style>\n<table border=\"1\" class=\"dataframe\">\n  <thead>\n    <tr style=\"text-align: right;\">\n      <th></th>\n      <th>CreditScore</th>\n      <th>Age</th>\n      <th>Tenure</th>\n      <th>Balance</th>\n      <th>NumOfProducts</th>\n      <th>HasCrCard</th>\n      <th>IsActiveMember</th>\n      <th>EstimatedSalary</th>\n      <th>Geography_Germany</th>\n      <th>Geography_Spain</th>\n      <th>Gender_Male</th>\n    </tr>\n  </thead>\n  <tbody>\n    <tr>\n      <th>0</th>\n      <td>619</td>\n      <td>42</td>\n      <td>2</td>\n      <td>0.00</td>\n      <td>1</td>\n      <td>1</td>\n      <td>1</td>\n      <td>101348.88</td>\n      <td>0</td>\n      <td>0</td>\n      <td>0</td>\n    </tr>\n    <tr>\n      <th>1</th>\n      <td>608</td>\n      <td>41</td>\n      <td>1</td>\n      <td>83807.86</td>\n      <td>1</td>\n      <td>0</td>\n      <td>1</td>\n      <td>112542.58</td>\n      <td>0</td>\n      <td>1</td>\n      <td>0</td>\n    </tr>\n    <tr>\n      <th>2</th>\n      <td>502</td>\n      <td>42</td>\n      <td>8</td>\n      <td>159660.80</td>\n      <td>3</td>\n      <td>1</td>\n      <td>0</td>\n      <td>113931.57</td>\n      <td>0</td>\n      <td>0</td>\n      <td>0</td>\n    </tr>\n    <tr>\n      <th>3</th>\n      <td>699</td>\n      <td>39</td>\n      <td>1</td>\n      <td>0.00</td>\n      <td>2</td>\n      <td>0</td>\n      <td>0</td>\n      <td>93826.63</td>\n      <td>0</td>\n      <td>0</td>\n      <td>0</td>\n    </tr>\n    <tr>\n      <th>4</th>\n      <td>850</td>\n      <td>43</td>\n      <td>2</td>\n      <td>125510.82</td>\n      <td>1</td>\n      <td>1</td>\n      <td>1</td>\n      <td>79084.10</td>\n      <td>0</td>\n      <td>1</td>\n      <td>0</td>\n    </tr>\n  </tbody>\n</table>\n</div>"
     },
     "metadata": {},
     "execution_count": 18
    }
   ],
   "source": [
    "data.head()"
   ]
  },
  {
   "cell_type": "code",
   "execution_count": 19,
   "metadata": {},
   "outputs": [],
   "source": [
    "X_data = data"
   ]
  },
  {
   "cell_type": "code",
   "execution_count": 20,
   "metadata": {},
   "outputs": [
    {
     "output_type": "execute_result",
     "data": {
      "text/plain": [
       "(10000, 11)"
      ]
     },
     "metadata": {},
     "execution_count": 20
    }
   ],
   "source": [
    "X_data.shape"
   ]
  },
  {
   "cell_type": "code",
   "execution_count": 21,
   "metadata": {},
   "outputs": [
    {
     "output_type": "execute_result",
     "data": {
      "text/plain": [
       "   CreditScore  Age  Tenure    Balance  NumOfProducts  HasCrCard  \\\n",
       "0          619   42       2       0.00              1          1   \n",
       "1          608   41       1   83807.86              1          0   \n",
       "2          502   42       8  159660.80              3          1   \n",
       "3          699   39       1       0.00              2          0   \n",
       "4          850   43       2  125510.82              1          1   \n",
       "\n",
       "   IsActiveMember  EstimatedSalary  Geography_Germany  Geography_Spain  \\\n",
       "0               1        101348.88                  0                0   \n",
       "1               1        112542.58                  0                1   \n",
       "2               0        113931.57                  0                0   \n",
       "3               0         93826.63                  0                0   \n",
       "4               1         79084.10                  0                1   \n",
       "\n",
       "   Gender_Male  \n",
       "0            0  \n",
       "1            0  \n",
       "2            0  \n",
       "3            0  \n",
       "4            0  "
      ],
      "text/html": "<div>\n<style scoped>\n    .dataframe tbody tr th:only-of-type {\n        vertical-align: middle;\n    }\n\n    .dataframe tbody tr th {\n        vertical-align: top;\n    }\n\n    .dataframe thead th {\n        text-align: right;\n    }\n</style>\n<table border=\"1\" class=\"dataframe\">\n  <thead>\n    <tr style=\"text-align: right;\">\n      <th></th>\n      <th>CreditScore</th>\n      <th>Age</th>\n      <th>Tenure</th>\n      <th>Balance</th>\n      <th>NumOfProducts</th>\n      <th>HasCrCard</th>\n      <th>IsActiveMember</th>\n      <th>EstimatedSalary</th>\n      <th>Geography_Germany</th>\n      <th>Geography_Spain</th>\n      <th>Gender_Male</th>\n    </tr>\n  </thead>\n  <tbody>\n    <tr>\n      <th>0</th>\n      <td>619</td>\n      <td>42</td>\n      <td>2</td>\n      <td>0.00</td>\n      <td>1</td>\n      <td>1</td>\n      <td>1</td>\n      <td>101348.88</td>\n      <td>0</td>\n      <td>0</td>\n      <td>0</td>\n    </tr>\n    <tr>\n      <th>1</th>\n      <td>608</td>\n      <td>41</td>\n      <td>1</td>\n      <td>83807.86</td>\n      <td>1</td>\n      <td>0</td>\n      <td>1</td>\n      <td>112542.58</td>\n      <td>0</td>\n      <td>1</td>\n      <td>0</td>\n    </tr>\n    <tr>\n      <th>2</th>\n      <td>502</td>\n      <td>42</td>\n      <td>8</td>\n      <td>159660.80</td>\n      <td>3</td>\n      <td>1</td>\n      <td>0</td>\n      <td>113931.57</td>\n      <td>0</td>\n      <td>0</td>\n      <td>0</td>\n    </tr>\n    <tr>\n      <th>3</th>\n      <td>699</td>\n      <td>39</td>\n      <td>1</td>\n      <td>0.00</td>\n      <td>2</td>\n      <td>0</td>\n      <td>0</td>\n      <td>93826.63</td>\n      <td>0</td>\n      <td>0</td>\n      <td>0</td>\n    </tr>\n    <tr>\n      <th>4</th>\n      <td>850</td>\n      <td>43</td>\n      <td>2</td>\n      <td>125510.82</td>\n      <td>1</td>\n      <td>1</td>\n      <td>1</td>\n      <td>79084.10</td>\n      <td>0</td>\n      <td>1</td>\n      <td>0</td>\n    </tr>\n  </tbody>\n</table>\n</div>"
     },
     "metadata": {},
     "execution_count": 21
    }
   ],
   "source": [
    "X_data.head()"
   ]
  },
  {
   "source": [
    "### 4. Divide the data set into training and test sets"
   ],
   "cell_type": "markdown",
   "metadata": {}
  },
  {
   "cell_type": "code",
   "execution_count": 22,
   "metadata": {},
   "outputs": [],
   "source": [
    "X_train, X_test, y_train, y_test = train_test_split(X_data, y_data, test_size = 0.2, random_state = 0)"
   ]
  },
  {
   "source": [
    "### 5. Normalize the train and test data"
   ],
   "cell_type": "markdown",
   "metadata": {}
  },
  {
   "cell_type": "code",
   "execution_count": 23,
   "metadata": {},
   "outputs": [],
   "source": [
    "#X_train = preprocessing.normalize(X_train)"
   ]
  },
  {
   "cell_type": "code",
   "execution_count": 24,
   "metadata": {},
   "outputs": [
    {
     "output_type": "execute_result",
     "data": {
      "text/plain": [
       "(8000, 11)"
      ]
     },
     "metadata": {},
     "execution_count": 24
    }
   ],
   "source": [
    "# For the above given dataset I find standardization to be benficial than normalization\n",
    "from sklearn.preprocessing import StandardScaler\n",
    "sc = StandardScaler()\n",
    "X_train = sc.fit_transform(X_train)\n",
    "X_test = sc.transform(X_test)\n",
    "X_train.shape"
   ]
  },
  {
   "source": [
    "### 6. Initialize & build the model"
   ],
   "cell_type": "markdown",
   "metadata": {}
  },
  {
   "source": [
    "### The model here has been updated after the model has been tuned for hyperparameters. The implementation can be seen in the section 7 below"
   ],
   "cell_type": "markdown",
   "metadata": {}
  },
  {
   "cell_type": "code",
   "execution_count": 25,
   "metadata": {},
   "outputs": [],
   "source": [
    "model = Sequential()"
   ]
  },
  {
   "cell_type": "code",
   "execution_count": 26,
   "metadata": {},
   "outputs": [],
   "source": [
    "model.add(Dense(units=10, kernel_initializer='uniform', input_shape = (11,), activation = 'relu'))\n",
    "model.add(Dense(units=10, kernel_initializer='uniform', activation = 'relu'))\n",
    "model.add(Dense(units=1, kernel_initializer='uniform', activation = 'sigmoid'))"
   ]
  },
  {
   "cell_type": "code",
   "execution_count": 27,
   "metadata": {},
   "outputs": [],
   "source": [
    "#sgd = optimizers.Adam(lr = 0.001)"
   ]
  },
  {
   "cell_type": "code",
   "execution_count": 28,
   "metadata": {},
   "outputs": [],
   "source": [
    "model.compile(optimizer = 'adam', loss = 'binary_crossentropy', metrics=['accuracy'])"
   ]
  },
  {
   "cell_type": "code",
   "execution_count": 29,
   "metadata": {},
   "outputs": [
    {
     "output_type": "stream",
     "name": "stdout",
     "text": [
      "Model: \"sequential\"\n_________________________________________________________________\nLayer (type)                 Output Shape              Param #   \n=================================================================\ndense (Dense)                (None, 10)                120       \n_________________________________________________________________\ndense_1 (Dense)              (None, 10)                110       \n_________________________________________________________________\ndense_2 (Dense)              (None, 1)                 11        \n=================================================================\nTotal params: 241\nTrainable params: 241\nNon-trainable params: 0\n_________________________________________________________________\n"
     ]
    }
   ],
   "source": [
    "model.summary()"
   ]
  },
  {
   "cell_type": "code",
   "execution_count": 30,
   "metadata": {},
   "outputs": [
    {
     "output_type": "stream",
     "name": "stdout",
     "text": [
      "Train on 5359 samples, validate on 2641 samples\n",
      "Epoch 1/50\n",
      "5359/5359 [==============================] - 1s 234us/sample - loss: 0.5041 - accuracy: 0.7951 - val_loss: 0.4367 - val_accuracy: 0.7955\n",
      "Epoch 2/50\n",
      "5359/5359 [==============================] - 1s 140us/sample - loss: 0.4282 - accuracy: 0.7962 - val_loss: 0.4314 - val_accuracy: 0.7955\n",
      "Epoch 3/50\n",
      "5359/5359 [==============================] - 1s 137us/sample - loss: 0.4236 - accuracy: 0.7962 - val_loss: 0.4272 - val_accuracy: 0.7955\n",
      "Epoch 4/50\n",
      "5359/5359 [==============================] - 1s 133us/sample - loss: 0.4195 - accuracy: 0.7979 - val_loss: 0.4247 - val_accuracy: 0.8160\n",
      "Epoch 5/50\n",
      "5359/5359 [==============================] - 1s 137us/sample - loss: 0.4163 - accuracy: 0.8220 - val_loss: 0.4227 - val_accuracy: 0.8209\n",
      "Epoch 6/50\n",
      "5359/5359 [==============================] - 1s 139us/sample - loss: 0.4150 - accuracy: 0.8253 - val_loss: 0.4216 - val_accuracy: 0.8213\n",
      "Epoch 7/50\n",
      "5359/5359 [==============================] - 1s 140us/sample - loss: 0.4131 - accuracy: 0.8298 - val_loss: 0.4201 - val_accuracy: 0.8232\n",
      "Epoch 8/50\n",
      "5359/5359 [==============================] - 1s 143us/sample - loss: 0.4121 - accuracy: 0.8322 - val_loss: 0.4185 - val_accuracy: 0.8258\n",
      "Epoch 9/50\n",
      "5359/5359 [==============================] - 1s 155us/sample - loss: 0.4110 - accuracy: 0.8334 - val_loss: 0.4180 - val_accuracy: 0.8281\n",
      "Epoch 10/50\n",
      "5359/5359 [==============================] - 1s 154us/sample - loss: 0.4099 - accuracy: 0.8337 - val_loss: 0.4179 - val_accuracy: 0.8262\n",
      "Epoch 11/50\n",
      "5359/5359 [==============================] - 1s 147us/sample - loss: 0.4090 - accuracy: 0.8343 - val_loss: 0.4164 - val_accuracy: 0.8266\n",
      "Epoch 12/50\n",
      "5359/5359 [==============================] - 1s 142us/sample - loss: 0.4086 - accuracy: 0.8347 - val_loss: 0.4172 - val_accuracy: 0.8277\n",
      "Epoch 13/50\n",
      "5359/5359 [==============================] - 1s 142us/sample - loss: 0.4077 - accuracy: 0.8339 - val_loss: 0.4152 - val_accuracy: 0.8266\n",
      "Epoch 14/50\n",
      "5359/5359 [==============================] - 1s 152us/sample - loss: 0.4067 - accuracy: 0.8352 - val_loss: 0.4155 - val_accuracy: 0.8254\n",
      "Epoch 15/50\n",
      "5359/5359 [==============================] - 1s 134us/sample - loss: 0.4066 - accuracy: 0.8358 - val_loss: 0.4152 - val_accuracy: 0.8277\n",
      "Epoch 16/50\n",
      "5359/5359 [==============================] - 1s 139us/sample - loss: 0.4064 - accuracy: 0.8339 - val_loss: 0.4139 - val_accuracy: 0.8292\n",
      "Epoch 17/50\n",
      "5359/5359 [==============================] - 1s 151us/sample - loss: 0.4053 - accuracy: 0.8347 - val_loss: 0.4159 - val_accuracy: 0.8224\n",
      "Epoch 18/50\n",
      "5359/5359 [==============================] - 1s 142us/sample - loss: 0.4054 - accuracy: 0.8352 - val_loss: 0.4129 - val_accuracy: 0.8273\n",
      "Epoch 19/50\n",
      "5359/5359 [==============================] - 1s 137us/sample - loss: 0.4050 - accuracy: 0.8356 - val_loss: 0.4140 - val_accuracy: 0.8232\n",
      "Epoch 20/50\n",
      "5359/5359 [==============================] - 1s 175us/sample - loss: 0.4044 - accuracy: 0.8350 - val_loss: 0.4130 - val_accuracy: 0.8281\n",
      "Epoch 21/50\n",
      "5359/5359 [==============================] - 1s 141us/sample - loss: 0.4036 - accuracy: 0.8356 - val_loss: 0.4121 - val_accuracy: 0.8281\n",
      "Epoch 22/50\n",
      "5359/5359 [==============================] - 1s 142us/sample - loss: 0.4037 - accuracy: 0.8350 - val_loss: 0.4127 - val_accuracy: 0.8258\n",
      "Epoch 23/50\n",
      "5359/5359 [==============================] - 1s 139us/sample - loss: 0.4034 - accuracy: 0.8362 - val_loss: 0.4131 - val_accuracy: 0.8281\n",
      "Epoch 24/50\n",
      "5359/5359 [==============================] - 1s 136us/sample - loss: 0.4031 - accuracy: 0.8354 - val_loss: 0.4138 - val_accuracy: 0.8273\n",
      "Epoch 25/50\n",
      "5359/5359 [==============================] - 1s 141us/sample - loss: 0.4031 - accuracy: 0.8358 - val_loss: 0.4115 - val_accuracy: 0.8277\n",
      "Epoch 26/50\n",
      "5359/5359 [==============================] - 1s 139us/sample - loss: 0.4023 - accuracy: 0.8377 - val_loss: 0.4124 - val_accuracy: 0.8220\n",
      "Epoch 27/50\n",
      "5359/5359 [==============================] - 1s 148us/sample - loss: 0.4024 - accuracy: 0.8369 - val_loss: 0.4117 - val_accuracy: 0.8281\n",
      "Epoch 28/50\n",
      "5359/5359 [==============================] - 1s 147us/sample - loss: 0.4021 - accuracy: 0.8360 - val_loss: 0.4134 - val_accuracy: 0.8254\n",
      "Epoch 29/50\n",
      "5359/5359 [==============================] - 1s 138us/sample - loss: 0.4022 - accuracy: 0.8352 - val_loss: 0.4117 - val_accuracy: 0.8270\n",
      "Epoch 30/50\n",
      "5359/5359 [==============================] - 1s 134us/sample - loss: 0.4014 - accuracy: 0.8364 - val_loss: 0.4123 - val_accuracy: 0.8277\n",
      "Epoch 31/50\n",
      "5359/5359 [==============================] - 1s 148us/sample - loss: 0.4011 - accuracy: 0.8364 - val_loss: 0.4117 - val_accuracy: 0.8296\n",
      "Epoch 32/50\n",
      "5359/5359 [==============================] - 1s 142us/sample - loss: 0.4018 - accuracy: 0.8358 - val_loss: 0.4109 - val_accuracy: 0.8277\n",
      "Epoch 33/50\n",
      "5359/5359 [==============================] - 1s 134us/sample - loss: 0.4013 - accuracy: 0.8350 - val_loss: 0.4115 - val_accuracy: 0.8228\n",
      "Epoch 34/50\n",
      "5359/5359 [==============================] - 1s 141us/sample - loss: 0.4012 - accuracy: 0.8354 - val_loss: 0.4102 - val_accuracy: 0.8281\n",
      "Epoch 35/50\n",
      "5359/5359 [==============================] - 1s 142us/sample - loss: 0.4009 - accuracy: 0.8373 - val_loss: 0.4111 - val_accuracy: 0.8273\n",
      "Epoch 36/50\n",
      "5359/5359 [==============================] - 1s 135us/sample - loss: 0.4007 - accuracy: 0.8375 - val_loss: 0.4110 - val_accuracy: 0.8236\n",
      "Epoch 37/50\n",
      "5359/5359 [==============================] - 1s 137us/sample - loss: 0.4004 - accuracy: 0.8362 - val_loss: 0.4112 - val_accuracy: 0.8266\n",
      "Epoch 38/50\n",
      "5359/5359 [==============================] - 1s 150us/sample - loss: 0.4003 - accuracy: 0.8375 - val_loss: 0.4103 - val_accuracy: 0.8243\n",
      "Epoch 39/50\n",
      "5359/5359 [==============================] - 1s 147us/sample - loss: 0.3998 - accuracy: 0.8352 - val_loss: 0.4106 - val_accuracy: 0.8220\n",
      "Epoch 40/50\n",
      "5359/5359 [==============================] - 1s 142us/sample - loss: 0.4004 - accuracy: 0.8356 - val_loss: 0.4113 - val_accuracy: 0.8254\n",
      "Epoch 41/50\n",
      "5359/5359 [==============================] - 1s 162us/sample - loss: 0.4000 - accuracy: 0.8354 - val_loss: 0.4118 - val_accuracy: 0.8266\n",
      "Epoch 42/50\n",
      "5359/5359 [==============================] - 1s 156us/sample - loss: 0.3999 - accuracy: 0.8365 - val_loss: 0.4103 - val_accuracy: 0.8251\n",
      "Epoch 43/50\n",
      "5359/5359 [==============================] - 1s 182us/sample - loss: 0.3996 - accuracy: 0.8375 - val_loss: 0.4110 - val_accuracy: 0.8228\n",
      "Epoch 44/50\n",
      "5359/5359 [==============================] - 1s 136us/sample - loss: 0.3994 - accuracy: 0.8388 - val_loss: 0.4112 - val_accuracy: 0.8236\n",
      "Epoch 45/50\n",
      "5359/5359 [==============================] - 1s 140us/sample - loss: 0.3994 - accuracy: 0.8352 - val_loss: 0.4122 - val_accuracy: 0.8232\n",
      "Epoch 46/50\n",
      "5359/5359 [==============================] - 1s 134us/sample - loss: 0.3995 - accuracy: 0.8341 - val_loss: 0.4096 - val_accuracy: 0.8262\n",
      "Epoch 47/50\n",
      "5359/5359 [==============================] - 1s 164us/sample - loss: 0.3988 - accuracy: 0.8362 - val_loss: 0.4106 - val_accuracy: 0.8273\n",
      "Epoch 48/50\n",
      "5359/5359 [==============================] - 1s 142us/sample - loss: 0.3987 - accuracy: 0.8371 - val_loss: 0.4121 - val_accuracy: 0.8198\n",
      "Epoch 49/50\n",
      "5359/5359 [==============================] - 1s 150us/sample - loss: 0.3993 - accuracy: 0.8360 - val_loss: 0.4102 - val_accuracy: 0.8258\n",
      "Epoch 50/50\n",
      "5359/5359 [==============================] - 1s 149us/sample - loss: 0.3994 - accuracy: 0.8371 - val_loss: 0.4117 - val_accuracy: 0.8201\n"
     ]
    },
    {
     "output_type": "execute_result",
     "data": {
      "text/plain": [
       "<tensorflow.python.keras.callbacks.History at 0x1e06ea89408>"
      ]
     },
     "metadata": {},
     "execution_count": 30
    }
   ],
   "source": [
    "model.fit(X_train, y_train.values, validation_split=0.33, batch_size = 10, epochs = 50, verbose = 1)"
   ]
  },
  {
   "cell_type": "code",
   "execution_count": 31,
   "metadata": {
    "tags": [
     "outputPrepend"
    ]
   },
   "outputs": [
    {
     "output_type": "stream",
     "name": "stdout",
     "text": [
      "===========================================================================================================================================================================================================================================================================================================================================================================================================================================================================================================================================================================================================================================================================================================================================================================================================================================================================================================================================================================================================================================================================================================================================================================================================================================================================================================================================================================================================================================================================================================================================================================================================================================================================================================================================================================================================================================================================================================================================================================================================================================================================================================================================================================================================================================================================================================================================================================================================================================================================================================================================================================================================================================================================================================================================================================================================================================================================================================================================================================================================================================================================================================================================================================================================================================================================================================================================================================================================================================================================================================================================================================================================================================================================================================================================================================================================================================================================================================================================================================================================================================================================================================================================================================================================================================================================================================================================================================================================================================================================================================================================================================================================================================================================================================================================================================================================================================================================================================================================================================================================================================================================================================================================================================================================================================================================================================================================================================================================================================================================================================================================================================================================================================================================================================================================================================================================================================================================================================================================================================================================================================================================================================================================================================================================================================================================================================================================================================================================================================================================================================================================================================================================================================================================================================================================================================================================================================================================================================================================================================================================================================================================================================================================================================================================================================================================================================================================================================================================================================================================================================================================================================================================================================================================================================================================================================================================================================================================================================================================================================================================================================================================================================================================================================================================================================================================================================================================================================================================================================================================================================================================================================================================================================================================================================================================================================================================================================================================================================================================================================================================================================================================================================================================================================================================================================================================================================================================================================================================================================================================================================================================================================================================================================================================================================================================================================================================================================================================================================================================================================================================================================================================================================================================================================================================================================================================================================================================================================================================================================================================================================================================================================================================================================================================================================================================================================================================================================================================================================================================================================================================================================================================================================================================================================================================================================================================================================================================================================================================================================================================================================================================================================================================================================================================================================================================================================================================================================================================================================================================================================================================================================================================================================================================================================================================================================================================================================================================================================================================================================================================================================================================================================================================================================================================================================================================================================================================================================================================================================================================================================================================================================================================================================================================================================================================================================================================================================================================================================================================================================================================================================================================================================================================================================================================================================================================================================================================================================================================================================================================================================================================================================================================================================================================================================================================================================================================================================================================================================================================================================================================================================================================================================================================================================================================================================================================================================================================================================================================================================================================================================================================================================================================================================================================================================================================================================================================================================================================================================================================================================================================================================================================================================================================================================================================================================================================================================================================================================================================================================================================================================================================================================================================================================================================================================================================================================================================================================================================================================================================================================================================================================================================================================================================================================================================================================================================================================================================================================================================================================================================================================================================================================================================================================================================================================================================================================================================================================================================================================================================================================================================================================================================================================================================================================================================================================================================================================================================================================================================================================================================================================================================================================================================================================================================================================================================================================================================================================================================================================================================================================================================================================================================================================================================================================================================================================================================================================================================================================================================================================================================================================================================================================================================================================================================================================================================================================================================================================================================================================================================================================================================================================================================================================================================================================================================================================================================================================================================================================================================================================================================================================================================================================================================================================================================================================================================================================================================================================================================================================================================================================================================================================================================================================================================================================================================================================================================================================] - 0s 24us/sample - loss: 0.2868 - accuracy: 0.8405\n"
     ]
    }
   ],
   "source": [
    "results = model.evaluate(X_test, y_test.values)"
   ]
  },
  {
   "cell_type": "code",
   "execution_count": 32,
   "metadata": {},
   "outputs": [
    {
     "output_type": "stream",
     "name": "stdout",
     "text": [
      "['loss', 'accuracy']\n[0.401703532576561, 0.8405]\n"
     ]
    }
   ],
   "source": [
    "print(model.metrics_names)\n",
    "print(results)   "
   ]
  },
  {
   "source": [
    "### Evaluating the model using K-Fold Cross validation"
   ],
   "cell_type": "markdown",
   "metadata": {}
  },
  {
   "source": [
    "### It is important to ensure that our model is accurate and has low variance. It can be seen that the Exited output variable is not equally distributed amoung the data. Therefore StratifiedK-Fold is employed to find if the model has acceptable variance"
   ],
   "cell_type": "markdown",
   "metadata": {}
  },
  {
   "cell_type": "code",
   "execution_count": 33,
   "metadata": {},
   "outputs": [],
   "source": [
    "from tensorflow.keras.wrappers.scikit_learn import KerasClassifier\n",
    "from sklearn.model_selection import StratifiedKFold\n",
    "from sklearn.model_selection import cross_val_score"
   ]
  },
  {
   "cell_type": "code",
   "execution_count": 34,
   "metadata": {},
   "outputs": [],
   "source": [
    "def keras_k_fold_model():\n",
    "    classifier = Sequential()\n",
    "    classifier.add(Dense(units=10, kernel_initializer='uniform', input_shape = (11,), activation = 'relu'))\n",
    "    classifier.add(Dense(units=10, kernel_initializer='uniform', activation = 'relu'))\n",
    "    classifier.add(Dense(units=1, kernel_initializer='uniform', activation = 'sigmoid'))\n",
    "    classifier.compile(optimizer = 'adam', loss = 'binary_crossentropy', metrics=['accuracy'])\n",
    "    return classifier"
   ]
  },
  {
   "cell_type": "code",
   "execution_count": 35,
   "metadata": {},
   "outputs": [],
   "source": [
    "# K-fold (10 fold) cross validation\n",
    "Kfold = StratifiedKFold(n_splits=10, shuffle=True, random_state = 10)"
   ]
  },
  {
   "cell_type": "code",
   "execution_count": 36,
   "metadata": {},
   "outputs": [],
   "source": [
    "# model using KerasClassifier\n",
    "classifier = KerasClassifier(build_fn=keras_k_fold_model, epochs=100, batch_size=10)"
   ]
  },
  {
   "cell_type": "code",
   "execution_count": 37,
   "metadata": {
    "tags": [
     "outputPrepend"
    ]
   },
   "outputs": [
    {
     "output_type": "stream",
     "name": "stdout",
     "text": [
      "==========================================================================================================================================================================================================================================================================================================================================================================================================================================================================================================================================================================================================================================================================================================================================================================================================================================================================================================================================================================================================================================================================================================================================================================================================================================================================================================================================================================================================================================================================================================================================================================================================================================================================================================================================================================================================================================================================================================================================================================================================================================================================================================================================================================================================================================================================================================================================================================================================================================================================================================================================================================================================================================================================================================================================================================================================================================================================================================================================================================================================================================================================================================================================================================================================================================================================================================================================================================================================================================================================================================================================================================================================================================================================================================================================================================================================================================================================================================================================================================================================================================================================================================================================================================================================================================================================================================================================================================================================================================================================================================================================================================================================================================================================================================================================================================================================================================================================================================================================================================================================================================================================================================================================================================================================================================================================================================================================================================================================================================================================================================================================================================================================================================================================================================================================================================================================================================================================================================================================================================================================================================================================================================================================================================================================================================================================================================================================================================================================================================================================================================================================================================================================================================================================================================================================================================================================================================================================================================================================================================================================================================================================================================================================================================================================================================================================================================================================================================================================================================================================================================================================================================================================================================================================================================================================================================================================================================================================================================================================================================================================================================================================================================================================================================================================================================================================================================================================================================================================================================================================================================================================================================================================================================================================================================================================================================================================================================================================================================================================================================================================================================================================================================================================================================================================================================================================================================================================================================================================================================================================================================================================================================================================================================================================================================================================================================================================================================================================================================================================================================================================================================================================================================================================================================================================================================================================================================================================================================================================================================================================================================================================================================================================================================================================================================================================================================================================================================================================================================================================================================================================================================================================================================================================================================================================================================================================================================================================================================================================================================================================================================================================================================================================================================================================================================================================================================================================================================================================================================================================================================================================================================================================================================================================================================================================================================================================================================================================================================================================================================================================================================================================================================================================================================================================================================================================================================================================================================================================================================================================================================================================================================================================================================================================================================================================================================================================================================================================================================================================================================================================================================================================================================================================================================================================================================================================================================================================================================================================================================================================================================================================================================================================================================================================================================================================================================================================================================================================================================================================================================================================================================================================================================================================================================================================================================================================================================================================================================================================================================================================================================================================================================================================================================================================================================================================================================================================================================================================================================================================================================================================================================================================================================================================================================================================================================================================================================================================================================================================================================================================================================================================================================================================================================================================================================================================================================================================================================================================================================================================================================================================================================================================================================================================================================================================================================================================================================================================================================================================================================================================================================================================================================================================================================================================================================================================================================================================================================================================================================================================================================================================================================================================================================================================================================================================================================================================================================================================================================================================================================================================================================================================================================================================================================================================================================================================================================================================================================================================================================================================================================================================================================================================================================================================================================================================================================================================================================================================================================================================================================================================================================================================================================================================================================================================================================================================================================================================================================================================================================================================================================================================================================================================================================================================================================================================================================================================================================================================================================================================================================================================================================================================================================================================================================================================================================================================================================================================================================================================================================================================================================================================================================================================================================================================================================================================================================================================================================] - 0s 155us/sample - loss: 0.6219 - accuracy: 0.8462\n"
     ]
    }
   ],
   "source": [
    "# kfold corss validation results\n",
    "cross_val_result = cross_val_score(classifier, X_train, y_train.values, cv = Kfold)"
   ]
  },
  {
   "cell_type": "code",
   "execution_count": 51,
   "metadata": {},
   "outputs": [
    {
     "output_type": "stream",
     "name": "stdout",
     "text": [
      "mean of the model is :  0.8450000047683716\nvariance in the model is :  0.009503291601344412\n"
     ]
    }
   ],
   "source": [
    "print('mean of the model is : ', cross_val_result.mean())\n",
    "print('variance in the model is : ', cross_val_result.std())"
   ]
  },
  {
   "source": [
    "### The variance of the model is very low, which means that the model is accurate"
   ],
   "cell_type": "markdown",
   "metadata": {}
  },
  {
   "source": [
    "### 6. Identify the points of improvement and implement the same"
   ],
   "cell_type": "markdown",
   "metadata": {}
  },
  {
   "source": [
    "### Tuning the model"
   ],
   "cell_type": "markdown",
   "metadata": {}
  },
  {
   "cell_type": "code",
   "execution_count": 52,
   "metadata": {},
   "outputs": [],
   "source": [
    "# Tuning the ANN\n",
    "from tensorflow.keras.wrappers.scikit_learn import KerasClassifier\n",
    "from sklearn.model_selection import GridSearchCV\n",
    "from tensorflow.keras.models import Sequential\n",
    "from tensorflow.keras.layers import Dense"
   ]
  },
  {
   "cell_type": "code",
   "execution_count": 53,
   "metadata": {},
   "outputs": [],
   "source": [
    "def model_tuning(optimizer = 'rmsprop'):\n",
    "    classifier = Sequential()\n",
    "    classifier.add(Dense(units=10, kernel_initializer='uniform', input_shape = (11,), activation = 'relu'))\n",
    "    classifier.add(Dense(units=10, kernel_initializer='uniform', activation = 'relu'))\n",
    "    classifier.add(Dense(units=1, kernel_initializer='uniform', activation = 'sigmoid'))\n",
    "    classifier.compile(optimizer = 'adam', loss = 'binary_crossentropy', metrics=['accuracy'])\n",
    "    return classifier"
   ]
  },
  {
   "cell_type": "code",
   "execution_count": 54,
   "metadata": {},
   "outputs": [],
   "source": [
    "model_tune = KerasClassifier(build_fn = model_tuning, epochs = 100, batch_size=10)"
   ]
  },
  {
   "cell_type": "code",
   "execution_count": 55,
   "metadata": {
    "tags": [
     "outputPrepend"
    ]
   },
   "outputs": [
    {
     "output_type": "stream",
     "name": "stdout",
     "text": [
      "===============================================================================================================================================================================================================================================================================================================================================================================================================================================================================================================================================================================================================================================================================================================================================================================================================================================================================================================================================================================================================================================================================================================================================================================================================================================================================================================================================================================================================================================================================================================================================================================================================================================================================================================================================================================================================================================================================================================================================================================================================================================================================================================================================================================================================================================================================================================================================================================================================================================================================================================================================================================================================================================================================================================================================================================================================================================================================================================================================================================================================================================================================================================================================================================================================================================================================================================================================================================================================================================================================================================================================================================================================================================================================================================================================================================================================================================================================================================================================================================================================================================================================================================================================================================================================================================================================================================================================================================================================================================================================================================================================================================================================================================================================================================================================================================================================================================================================================================================================================================================================================================================================================================================================================================================================================================================================================================================================================================================================================================================================================================================================================================================================================================================================================================================================================================================================================================================================================================================================================================================================================================================================================================================================================================================================================================================================================================================================================================================================================================================================================================================================================================================================================================================================================================================================================================================================================================================================================================================================================================================================================================================================================================================================================================================================================================================================================================================================================================================================================================================================================================================================================================================================================================================================================================================================================================================================================================================================================================================================================================================================================================================================================================================================================================================================================================================================================================================================================================================================================================================================================================================================================================================================================================================================================================================================================================================================================================================================================================================================================================================================================================================================================================================================================================================================================================================================================================================================================================================================================================================================================================================================================================================================] - 0s 96us/sample - loss: 0.2489 - accuracy: 0.8569\n",
      "Train on 8000 samples\n",
      "Epoch 1/100\n",
      "8000/8000 [==============================] - 1s 118us/sample - loss: 0.4667 - accuracy: 0.8008\n",
      "Epoch 2/100\n",
      "8000/8000 [==============================] - 1s 87us/sample - loss: 0.4071 - accuracy: 0.8251\n",
      "Epoch 3/100\n",
      "8000/8000 [==============================] - 1s 88us/sample - loss: 0.3936 - accuracy: 0.8296\n",
      "Epoch 4/100\n",
      "8000/8000 [==============================] - 1s 87us/sample - loss: 0.3837 - accuracy: 0.8295\n",
      "Epoch 5/100\n",
      "8000/8000 [==============================] - 1s 87us/sample - loss: 0.3766 - accuracy: 0.8403\n",
      "Epoch 6/100\n",
      "8000/8000 [==============================] - 1s 87us/sample - loss: 0.3715 - accuracy: 0.8451\n",
      "Epoch 7/100\n",
      "8000/8000 [==============================] - 1s 88us/sample - loss: 0.3668 - accuracy: 0.8493\n",
      "Epoch 8/100\n",
      "8000/8000 [==============================] - 1s 88us/sample - loss: 0.3635 - accuracy: 0.8506\n",
      "Epoch 9/100\n",
      "8000/8000 [==============================] - 1s 90us/sample - loss: 0.3604 - accuracy: 0.8511\n",
      "Epoch 10/100\n",
      "8000/8000 [==============================] - 1s 88us/sample - loss: 0.3599 - accuracy: 0.8534\n",
      "Epoch 11/100\n",
      "8000/8000 [==============================] - 1s 89us/sample - loss: 0.3573 - accuracy: 0.8537\n",
      "Epoch 12/100\n",
      "8000/8000 [==============================] - 1s 92us/sample - loss: 0.3560 - accuracy: 0.8535\n",
      "Epoch 13/100\n",
      "8000/8000 [==============================] - 1s 89us/sample - loss: 0.3559 - accuracy: 0.8541\n",
      "Epoch 14/100\n",
      "8000/8000 [==============================] - 1s 86us/sample - loss: 0.3527 - accuracy: 0.8568\n",
      "Epoch 15/100\n",
      "8000/8000 [==============================] - 1s 89us/sample - loss: 0.3528 - accuracy: 0.8564\n",
      "Epoch 16/100\n",
      "8000/8000 [==============================] - 1s 87us/sample - loss: 0.3527 - accuracy: 0.8570\n",
      "Epoch 17/100\n",
      "8000/8000 [==============================] - 1s 88us/sample - loss: 0.3516 - accuracy: 0.8579\n",
      "Epoch 18/100\n",
      "8000/8000 [==============================] - 1s 90us/sample - loss: 0.3516 - accuracy: 0.8566\n",
      "Epoch 19/100\n",
      "8000/8000 [==============================] - 1s 88us/sample - loss: 0.3488 - accuracy: 0.8590\n",
      "Epoch 20/100\n",
      "8000/8000 [==============================] - 1s 88us/sample - loss: 0.3484 - accuracy: 0.8571\n",
      "Epoch 21/100\n",
      "8000/8000 [==============================] - 1s 89us/sample - loss: 0.3474 - accuracy: 0.8596\n",
      "Epoch 22/100\n",
      "8000/8000 [==============================] - 1s 90us/sample - loss: 0.3453 - accuracy: 0.8589\n",
      "Epoch 23/100\n",
      "8000/8000 [==============================] - 1s 88us/sample - loss: 0.3450 - accuracy: 0.8572\n",
      "Epoch 24/100\n",
      "8000/8000 [==============================] - 1s 89us/sample - loss: 0.3434 - accuracy: 0.8585\n",
      "Epoch 25/100\n",
      "8000/8000 [==============================] - 1s 87us/sample - loss: 0.3434 - accuracy: 0.8581\n",
      "Epoch 26/100\n",
      "8000/8000 [==============================] - 1s 90us/sample - loss: 0.3425 - accuracy: 0.8583\n",
      "Epoch 27/100\n",
      "8000/8000 [==============================] - 1s 88us/sample - loss: 0.3414 - accuracy: 0.8601\n",
      "Epoch 28/100\n",
      "8000/8000 [==============================] - 1s 90us/sample - loss: 0.3417 - accuracy: 0.8585\n",
      "Epoch 29/100\n",
      "8000/8000 [==============================] - 1s 89us/sample - loss: 0.3413 - accuracy: 0.8609\n",
      "Epoch 30/100\n",
      "8000/8000 [==============================] - 1s 87us/sample - loss: 0.3420 - accuracy: 0.8586\n",
      "Epoch 31/100\n",
      "8000/8000 [==============================] - 1s 86us/sample - loss: 0.3409 - accuracy: 0.8625\n",
      "Epoch 32/100\n",
      "8000/8000 [==============================] - 1s 88us/sample - loss: 0.3408 - accuracy: 0.8597\n",
      "Epoch 33/100\n",
      "8000/8000 [==============================] - 1s 98us/sample - loss: 0.3384 - accuracy: 0.8619\n",
      "Epoch 34/100\n",
      "8000/8000 [==============================] - 1s 89us/sample - loss: 0.3399 - accuracy: 0.8608\n",
      "Epoch 35/100\n",
      "8000/8000 [==============================] - 1s 91us/sample - loss: 0.3387 - accuracy: 0.8601\n",
      "Epoch 36/100\n",
      "8000/8000 [==============================] - 1s 88us/sample - loss: 0.3386 - accuracy: 0.8599\n",
      "Epoch 37/100\n",
      "8000/8000 [==============================] - 1s 88us/sample - loss: 0.3399 - accuracy: 0.8605\n",
      "Epoch 38/100\n",
      "8000/8000 [==============================] - 1s 87us/sample - loss: 0.3383 - accuracy: 0.8624\n",
      "Epoch 39/100\n",
      "8000/8000 [==============================] - 1s 87us/sample - loss: 0.3387 - accuracy: 0.8605\n",
      "Epoch 40/100\n",
      "8000/8000 [==============================] - 1s 89us/sample - loss: 0.3377 - accuracy: 0.8611\n",
      "Epoch 41/100\n",
      "8000/8000 [==============================] - 1s 88us/sample - loss: 0.3383 - accuracy: 0.8597\n",
      "Epoch 42/100\n",
      "8000/8000 [==============================] - 1s 88us/sample - loss: 0.3382 - accuracy: 0.8583\n",
      "Epoch 43/100\n",
      "8000/8000 [==============================] - 1s 89us/sample - loss: 0.3371 - accuracy: 0.8612\n",
      "Epoch 44/100\n",
      "8000/8000 [==============================] - 1s 88us/sample - loss: 0.3380 - accuracy: 0.8608\n",
      "Epoch 45/100\n",
      "8000/8000 [==============================] - 1s 88us/sample - loss: 0.3370 - accuracy: 0.8614\n",
      "Epoch 46/100\n",
      "8000/8000 [==============================] - 1s 90us/sample - loss: 0.3377 - accuracy: 0.8596\n",
      "Epoch 47/100\n",
      "8000/8000 [==============================] - 1s 87us/sample - loss: 0.3365 - accuracy: 0.8606\n",
      "Epoch 48/100\n",
      "8000/8000 [==============================] - 1s 87us/sample - loss: 0.3379 - accuracy: 0.8618\n",
      "Epoch 49/100\n",
      "8000/8000 [==============================] - 1s 90us/sample - loss: 0.3365 - accuracy: 0.8602\n",
      "Epoch 50/100\n",
      "8000/8000 [==============================] - 1s 87us/sample - loss: 0.3372 - accuracy: 0.8614\n",
      "Epoch 51/100\n",
      "8000/8000 [==============================] - 1s 90us/sample - loss: 0.3363 - accuracy: 0.8612\n",
      "Epoch 52/100\n",
      "8000/8000 [==============================] - 1s 86us/sample - loss: 0.3353 - accuracy: 0.8615\n",
      "Epoch 53/100\n",
      "8000/8000 [==============================] - 1s 87us/sample - loss: 0.3359 - accuracy: 0.8605\n",
      "Epoch 54/100\n",
      "8000/8000 [==============================] - 1s 88us/sample - loss: 0.3361 - accuracy: 0.8639\n",
      "Epoch 55/100\n",
      "8000/8000 [==============================] - 1s 88us/sample - loss: 0.3364 - accuracy: 0.8605\n",
      "Epoch 56/100\n",
      "8000/8000 [==============================] - 1s 88us/sample - loss: 0.3350 - accuracy: 0.8621\n",
      "Epoch 57/100\n",
      "8000/8000 [==============================] - 1s 90us/sample - loss: 0.3358 - accuracy: 0.8620\n",
      "Epoch 58/100\n",
      "8000/8000 [==============================] - 1s 87us/sample - loss: 0.3367 - accuracy: 0.8643\n",
      "Epoch 59/100\n",
      "8000/8000 [==============================] - 1s 90us/sample - loss: 0.3359 - accuracy: 0.8609\n",
      "Epoch 60/100\n",
      "8000/8000 [==============================] - 1s 89us/sample - loss: 0.3353 - accuracy: 0.8593\n",
      "Epoch 61/100\n",
      "8000/8000 [==============================] - 1s 89us/sample - loss: 0.3361 - accuracy: 0.8616\n",
      "Epoch 62/100\n",
      "8000/8000 [==============================] - 1s 86us/sample - loss: 0.3351 - accuracy: 0.8627\n",
      "Epoch 63/100\n",
      "8000/8000 [==============================] - 1s 89us/sample - loss: 0.3364 - accuracy: 0.8616\n",
      "Epoch 64/100\n",
      "8000/8000 [==============================] - 1s 88us/sample - loss: 0.3355 - accuracy: 0.8594\n",
      "Epoch 65/100\n",
      "8000/8000 [==============================] - 1s 89us/sample - loss: 0.3356 - accuracy: 0.8611\n",
      "Epoch 66/100\n",
      "8000/8000 [==============================] - 1s 87us/sample - loss: 0.3353 - accuracy: 0.8618\n",
      "Epoch 67/100\n",
      "8000/8000 [==============================] - 1s 89us/sample - loss: 0.3355 - accuracy: 0.8625\n",
      "Epoch 68/100\n",
      "8000/8000 [==============================] - 1s 88us/sample - loss: 0.3346 - accuracy: 0.8621\n",
      "Epoch 69/100\n",
      "8000/8000 [==============================] - 1s 88us/sample - loss: 0.3345 - accuracy: 0.8619\n",
      "Epoch 70/100\n",
      "8000/8000 [==============================] - 1s 88us/sample - loss: 0.3348 - accuracy: 0.8633\n",
      "Epoch 71/100\n",
      "8000/8000 [==============================] - 1s 88us/sample - loss: 0.3356 - accuracy: 0.8619\n",
      "Epoch 72/100\n",
      "8000/8000 [==============================] - 1s 86us/sample - loss: 0.3349 - accuracy: 0.8611\n",
      "Epoch 73/100\n",
      "8000/8000 [==============================] - 1s 86us/sample - loss: 0.3351 - accuracy: 0.8610\n",
      "Epoch 74/100\n",
      "8000/8000 [==============================] - 1s 103us/sample - loss: 0.3351 - accuracy: 0.8618\n",
      "Epoch 75/100\n",
      "8000/8000 [==============================] - 1s 87us/sample - loss: 0.3350 - accuracy: 0.8626\n",
      "Epoch 76/100\n",
      "8000/8000 [==============================] - 1s 89us/sample - loss: 0.3350 - accuracy: 0.8629\n",
      "Epoch 77/100\n",
      "8000/8000 [==============================] - 1s 88us/sample - loss: 0.3337 - accuracy: 0.8609\n",
      "Epoch 78/100\n",
      "8000/8000 [==============================] - 1s 87us/sample - loss: 0.3338 - accuracy: 0.8639\n",
      "Epoch 79/100\n",
      "8000/8000 [==============================] - 1s 87us/sample - loss: 0.3350 - accuracy: 0.8591\n",
      "Epoch 80/100\n",
      "8000/8000 [==============================] - 1s 87us/sample - loss: 0.3350 - accuracy: 0.8605\n",
      "Epoch 81/100\n",
      "8000/8000 [==============================] - 1s 89us/sample - loss: 0.3330 - accuracy: 0.8633\n",
      "Epoch 82/100\n",
      "8000/8000 [==============================] - 1s 86us/sample - loss: 0.3337 - accuracy: 0.8644\n",
      "Epoch 83/100\n",
      "8000/8000 [==============================] - 1s 88us/sample - loss: 0.3338 - accuracy: 0.8609\n",
      "Epoch 84/100\n",
      "8000/8000 [==============================] - 1s 86us/sample - loss: 0.3343 - accuracy: 0.8633\n",
      "Epoch 85/100\n",
      "8000/8000 [==============================] - 1s 87us/sample - loss: 0.3347 - accuracy: 0.8611\n",
      "Epoch 86/100\n",
      "8000/8000 [==============================] - 1s 87us/sample - loss: 0.3341 - accuracy: 0.8624\n",
      "Epoch 87/100\n",
      "8000/8000 [==============================] - 1s 88us/sample - loss: 0.3341 - accuracy: 0.8611\n",
      "Epoch 88/100\n",
      "8000/8000 [==============================] - 1s 87us/sample - loss: 0.3345 - accuracy: 0.8616\n",
      "Epoch 89/100\n",
      "8000/8000 [==============================] - 1s 91us/sample - loss: 0.3338 - accuracy: 0.8624\n",
      "Epoch 90/100\n",
      "8000/8000 [==============================] - 1s 87us/sample - loss: 0.3337 - accuracy: 0.8636\n",
      "Epoch 91/100\n",
      "8000/8000 [==============================] - 1s 89us/sample - loss: 0.3338 - accuracy: 0.8630\n",
      "Epoch 92/100\n",
      "8000/8000 [==============================] - 1s 86us/sample - loss: 0.3344 - accuracy: 0.8629\n",
      "Epoch 93/100\n",
      "8000/8000 [==============================] - 1s 89us/sample - loss: 0.3342 - accuracy: 0.8624\n",
      "Epoch 94/100\n",
      "8000/8000 [==============================] - 1s 88us/sample - loss: 0.3342 - accuracy: 0.8618\n",
      "Epoch 95/100\n",
      "8000/8000 [==============================] - 1s 87us/sample - loss: 0.3329 - accuracy: 0.8639\n",
      "Epoch 96/100\n",
      "8000/8000 [==============================] - 1s 87us/sample - loss: 0.3346 - accuracy: 0.8629\n",
      "Epoch 97/100\n",
      "8000/8000 [==============================] - 1s 88us/sample - loss: 0.3344 - accuracy: 0.8629\n",
      "Epoch 98/100\n",
      "8000/8000 [==============================] - 1s 87us/sample - loss: 0.3324 - accuracy: 0.8624\n",
      "Epoch 99/100\n",
      "8000/8000 [==============================] - 1s 87us/sample - loss: 0.3331 - accuracy: 0.8629\n",
      "Epoch 100/100\n",
      "8000/8000 [==============================] - 1s 87us/sample - loss: 0.3336 - accuracy: 0.8645\n"
     ]
    }
   ],
   "source": [
    "# grid search epochs, batch size and optimizer\n",
    "# Here, various parameters can be tuned using GridsearchCV method. \n",
    "optimizers = ['rmsprop', 'adam']\n",
    "#init = ['normal', 'uniform']\n",
    "#epochs = [50, 100]\n",
    "#batches = [10, 20]\n",
    "#param_grid = dict(optimizer=optimizers, nb_epoch=epochs, init=init)\n",
    "param_grid = dict(optimizer=optimizers)\n",
    "grid = GridSearchCV(estimator=model_tune, param_grid = param_grid)\n",
    "grid_result = grid.fit(X_train, y_train)"
   ]
  },
  {
   "cell_type": "code",
   "execution_count": 56,
   "metadata": {},
   "outputs": [
    {
     "output_type": "stream",
     "name": "stdout",
     "text": [
      "Best: 0.853875 using {'optimizer': 'adam'}\n0.848250 (0.012768) with: {'optimizer': 'rmsprop'}\n0.853875 (0.008305) with: {'optimizer': 'adam'}\n"
     ]
    }
   ],
   "source": [
    "# Printing out the best parameters after parameter tuning\n",
    "print(\"Best: %f using %s\" % (grid_result.best_score_, grid_result.best_params_))\n",
    "\n",
    "means = grid_result.cv_results_['mean_test_score']\n",
    "stds = grid_result.cv_results_['std_test_score']\n",
    "params = grid_result.cv_results_['params']\n",
    "\n",
    "for mean, stdev, param in zip(means, stds, params):\n",
    "    print(\"%f (%f) with: %r\" % (mean, stdev, param))"
   ]
  },
  {
   "source": [
    "###  As shown in the Hyperparameter tuning above it is recommended to use adam optimizer to improve the accuracy score of the model"
   ],
   "cell_type": "markdown",
   "metadata": {}
  },
  {
   "source": [
    "### 7. Predict the results using 0.5 as a threshold"
   ],
   "cell_type": "markdown",
   "metadata": {}
  },
  {
   "cell_type": "code",
   "execution_count": 57,
   "metadata": {},
   "outputs": [],
   "source": [
    "# Test set results Prediction\n",
    "y_pred = model.predict(X_test)"
   ]
  },
  {
   "cell_type": "code",
   "execution_count": 58,
   "metadata": {},
   "outputs": [
    {
     "output_type": "execute_result",
     "data": {
      "text/plain": [
       "          0\n",
       "0  0.263152\n",
       "1  0.385279\n",
       "2  0.150986\n",
       "3  0.064347\n",
       "4  0.191073"
      ],
      "text/html": "<div>\n<style scoped>\n    .dataframe tbody tr th:only-of-type {\n        vertical-align: middle;\n    }\n\n    .dataframe tbody tr th {\n        vertical-align: top;\n    }\n\n    .dataframe thead th {\n        text-align: right;\n    }\n</style>\n<table border=\"1\" class=\"dataframe\">\n  <thead>\n    <tr style=\"text-align: right;\">\n      <th></th>\n      <th>0</th>\n    </tr>\n  </thead>\n  <tbody>\n    <tr>\n      <th>0</th>\n      <td>0.263152</td>\n    </tr>\n    <tr>\n      <th>1</th>\n      <td>0.385279</td>\n    </tr>\n    <tr>\n      <th>2</th>\n      <td>0.150986</td>\n    </tr>\n    <tr>\n      <th>3</th>\n      <td>0.064347</td>\n    </tr>\n    <tr>\n      <th>4</th>\n      <td>0.191073</td>\n    </tr>\n  </tbody>\n</table>\n</div>"
     },
     "metadata": {},
     "execution_count": 58
    }
   ],
   "source": [
    "# Converting y_pred to a dataframe\n",
    "y_pred_df = pd.DataFrame(y_pred)\n",
    "y_pred_df.head()"
   ]
  },
  {
   "cell_type": "code",
   "execution_count": 59,
   "metadata": {},
   "outputs": [],
   "source": [
    "# Converting y_test to dataframe\n",
    "y_test_df = pd.DataFrame(y_test)"
   ]
  },
  {
   "cell_type": "code",
   "execution_count": 60,
   "metadata": {},
   "outputs": [],
   "source": [
    "# Using customer ID as index\n",
    "y_test_df['CustomerId'] = y_test_df.index"
   ]
  },
  {
   "cell_type": "code",
   "execution_count": 61,
   "metadata": {},
   "outputs": [
    {
     "output_type": "execute_result",
     "data": {
      "text/plain": [
       "   Exited  CustomerId         0\n",
       "0       0        9394  0.263152\n",
       "1       1         898  0.385279\n",
       "2       0        2398  0.150986\n",
       "3       0        5906  0.064347\n",
       "4       0        2343  0.191073"
      ],
      "text/html": "<div>\n<style scoped>\n    .dataframe tbody tr th:only-of-type {\n        vertical-align: middle;\n    }\n\n    .dataframe tbody tr th {\n        vertical-align: top;\n    }\n\n    .dataframe thead th {\n        text-align: right;\n    }\n</style>\n<table border=\"1\" class=\"dataframe\">\n  <thead>\n    <tr style=\"text-align: right;\">\n      <th></th>\n      <th>Exited</th>\n      <th>CustomerId</th>\n      <th>0</th>\n    </tr>\n  </thead>\n  <tbody>\n    <tr>\n      <th>0</th>\n      <td>0</td>\n      <td>9394</td>\n      <td>0.263152</td>\n    </tr>\n    <tr>\n      <th>1</th>\n      <td>1</td>\n      <td>898</td>\n      <td>0.385279</td>\n    </tr>\n    <tr>\n      <th>2</th>\n      <td>0</td>\n      <td>2398</td>\n      <td>0.150986</td>\n    </tr>\n    <tr>\n      <th>3</th>\n      <td>0</td>\n      <td>5906</td>\n      <td>0.064347</td>\n    </tr>\n    <tr>\n      <th>4</th>\n      <td>0</td>\n      <td>2343</td>\n      <td>0.191073</td>\n    </tr>\n  </tbody>\n</table>\n</div>"
     },
     "metadata": {},
     "execution_count": 61
    }
   ],
   "source": [
    "# Removing indexes and concatinating y_test and y_pred\n",
    "y_pred_df.reset_index(drop=True, inplace=True)\n",
    "y_test_df.reset_index(drop=True, inplace=True)\n",
    "y_pred_result = pd.concat([y_test_df, y_pred_df], axis=1)\n",
    "y_pred_result.head()"
   ]
  },
  {
   "cell_type": "code",
   "execution_count": 62,
   "metadata": {},
   "outputs": [
    {
     "output_type": "execute_result",
     "data": {
      "text/plain": [
       "   CustomerId  Exited  Exited_Prob\n",
       "0        9394       0     0.263152\n",
       "1         898       1     0.385279\n",
       "2        2398       0     0.150986\n",
       "3        5906       0     0.064347\n",
       "4        2343       0     0.191073"
      ],
      "text/html": "<div>\n<style scoped>\n    .dataframe tbody tr th:only-of-type {\n        vertical-align: middle;\n    }\n\n    .dataframe tbody tr th {\n        vertical-align: top;\n    }\n\n    .dataframe thead th {\n        text-align: right;\n    }\n</style>\n<table border=\"1\" class=\"dataframe\">\n  <thead>\n    <tr style=\"text-align: right;\">\n      <th></th>\n      <th>CustomerId</th>\n      <th>Exited</th>\n      <th>Exited_Prob</th>\n    </tr>\n  </thead>\n  <tbody>\n    <tr>\n      <th>0</th>\n      <td>9394</td>\n      <td>0</td>\n      <td>0.263152</td>\n    </tr>\n    <tr>\n      <th>1</th>\n      <td>898</td>\n      <td>1</td>\n      <td>0.385279</td>\n    </tr>\n    <tr>\n      <th>2</th>\n      <td>2398</td>\n      <td>0</td>\n      <td>0.150986</td>\n    </tr>\n    <tr>\n      <th>3</th>\n      <td>5906</td>\n      <td>0</td>\n      <td>0.064347</td>\n    </tr>\n    <tr>\n      <th>4</th>\n      <td>2343</td>\n      <td>0</td>\n      <td>0.191073</td>\n    </tr>\n  </tbody>\n</table>\n</div>"
     },
     "metadata": {},
     "execution_count": 62
    }
   ],
   "source": [
    "# Renaming and Rearranging\n",
    "y_pred_result = y_pred_result.rename(columns={0 : 'Exited_Prob'})\n",
    "y_pred_result = y_pred_result.reindex(['CustomerId', 'Exited', 'Exited_Prob'], axis = 1)\n",
    "y_pred_result.head()"
   ]
  },
  {
   "cell_type": "code",
   "execution_count": 63,
   "metadata": {},
   "outputs": [
    {
     "output_type": "execute_result",
     "data": {
      "text/plain": [
       "   CustomerId  Exited  Exited_Prob  Predicted\n",
       "0        9394       0     0.263152          0\n",
       "1         898       1     0.385279          0\n",
       "2        2398       0     0.150986          0\n",
       "3        5906       0     0.064347          0\n",
       "4        2343       0     0.191073          0"
      ],
      "text/html": "<div>\n<style scoped>\n    .dataframe tbody tr th:only-of-type {\n        vertical-align: middle;\n    }\n\n    .dataframe tbody tr th {\n        vertical-align: top;\n    }\n\n    .dataframe thead th {\n        text-align: right;\n    }\n</style>\n<table border=\"1\" class=\"dataframe\">\n  <thead>\n    <tr style=\"text-align: right;\">\n      <th></th>\n      <th>CustomerId</th>\n      <th>Exited</th>\n      <th>Exited_Prob</th>\n      <th>Predicted</th>\n    </tr>\n  </thead>\n  <tbody>\n    <tr>\n      <th>0</th>\n      <td>9394</td>\n      <td>0</td>\n      <td>0.263152</td>\n      <td>0</td>\n    </tr>\n    <tr>\n      <th>1</th>\n      <td>898</td>\n      <td>1</td>\n      <td>0.385279</td>\n      <td>0</td>\n    </tr>\n    <tr>\n      <th>2</th>\n      <td>2398</td>\n      <td>0</td>\n      <td>0.150986</td>\n      <td>0</td>\n    </tr>\n    <tr>\n      <th>3</th>\n      <td>5906</td>\n      <td>0</td>\n      <td>0.064347</td>\n      <td>0</td>\n    </tr>\n    <tr>\n      <th>4</th>\n      <td>2343</td>\n      <td>0</td>\n      <td>0.191073</td>\n      <td>0</td>\n    </tr>\n  </tbody>\n</table>\n</div>"
     },
     "metadata": {},
     "execution_count": 63
    }
   ],
   "source": [
    "# Creating a new column with value 1 if Exited_Prob > 0.5 else 0\n",
    "y_pred_result['Predicted'] = y_pred_result.Exited_Prob.map(lambda x: 1 if x > 0.5 else 0)\n",
    "y_pred_result.head()"
   ]
  },
  {
   "source": [
    "### 8. Print the Accuracy score and confusion matrix"
   ],
   "cell_type": "markdown",
   "metadata": {}
  },
  {
   "cell_type": "code",
   "execution_count": 64,
   "metadata": {},
   "outputs": [],
   "source": [
    "from sklearn import metrics"
   ]
  },
  {
   "cell_type": "code",
   "execution_count": 65,
   "metadata": {},
   "outputs": [
    {
     "output_type": "execute_result",
     "data": {
      "text/plain": [
       "0.8405"
      ]
     },
     "metadata": {},
     "execution_count": 65
    }
   ],
   "source": [
    "# Overall accuracy of the model\n",
    "metrics.accuracy_score(y_pred_result.Exited, y_pred_result.Predicted)"
   ]
  },
  {
   "cell_type": "code",
   "execution_count": 66,
   "metadata": {},
   "outputs": [
    {
     "output_type": "execute_result",
     "data": {
      "text/plain": [
       "array([[1538,   57],\n",
       "       [ 262,  143]], dtype=int64)"
      ]
     },
     "metadata": {},
     "execution_count": 66
    }
   ],
   "source": [
    "# Confusion matrix\n",
    "confusion = metrics.confusion_matrix(y_pred_result.Exited, y_pred_result.Predicted)\n",
    "confusion"
   ]
  },
  {
   "cell_type": "code",
   "execution_count": 70,
   "metadata": {
    "tags": [
     "outputPrepend"
    ]
   },
   "outputs": [
    {
     "output_type": "stream",
     "name": "stdout",
     "text": [
      "=====================================================================================================================================================================================================================================================================================================================================================================================================================================================================================================================================================================================================================================================================================================================================================================================================================================================================================================================================================================================================================================================================================================================================================================================================================================================================================================================================================================================================================================================================================================================================================================================================================================================================================================================================================================================================================================================================================================================================================================================================================================================================================================================================================================================================================================================================================================================================================================================================================================================================================================================================================================================================================================================================================================================================================================================================================================================================================================================================================================================================================================================================================================================================================================================================================================================================================================================================================================================================================================================================================================================================================================================================================================================================================================================================================================================================================================================================================================================================================================================================================================================================================================================================================================================================================================================================================================================================================================================================================================================================================================================================================================================================================================================================================================================================================================================================================================================================================================================================================================================================================================================================================================================================================================================================================================================================================================================================================================================================================================================================================================================================================================================================================================================================================================================================================================================================================================================================================================================================================================================================================================================================================================================================================================================================================================================================================================================================================================================================================================================================================================================================================================================================================================================================================================================================================================================================================================================================================================================================================================================================================================================================================================================================================================================================================================================================================================================================================================================================================================================================================================================================================================================================================================================================================================================================================================================================================================================================================================================================================================================================================================================================================================================================================================================================================================================================================================================================================================================================================================================================================================================================================================================================================================================================================================================================================================================================================================================================================================================================================================================================================================================================================================================================================================================================================================================================================================================================================================================================================================================================================================================================================================================================================================================================================================================================================================================================================================================================================================================================================================================================================================================================================================================================================================================================================================================================================================================================================================================================================================================================================================================================================================================================================================================================================================================================================================================================================================================================================================================================================================================================================================================================================================================================================================================================================================================================================================================================================================================================================================================================================================================================================================================================================================================================================================================================================================================================================================================================================================================================================================================================================================================================================================================================================================================================================================================================================================================================================================================================================================================================================================================================================================================================================================================================================================================================================================================================================================================================================================================================================================================================================================================================================================================================================================================================================================================================================================================================================================================================================================================================================================================================================================================================================================================================================================================================================================================================================================================================================================================================================================================================================================================================================================================================================================================================================================================================================================================================================================================================================================================================================================================================================================================================================================================================================================================================================================================================================================================================================================================================================================================================================================================================================================================================================================================================================================================================================================================================================================================================================================================================================================================================================================================================================================================================================================================================================================================================================================================================================================================================================================================================================================================================================================================================================================================================================================================================================================================================================================================================================================================================================================================================================================================================================================================================================================================================================================================================================================================================================================================================================================================================================================================================================================================================================================================================================================================================================================================================================================================================================================================================================================================================================================================================================================================================================================================================================================================================================================================================================================================================================================================================================================================================================================================================================================================================================================================================================================================================================================================================================================================================================================================================================================================================================================================================================================================================================================================================================================================================================================================================================================================================================================================================================================================================================================================================================================================================================================================================================================================================================================================================================================================================================================================================================================================================================================================================================================================================================================================================================================================================================================================================================================================================================================================================================================================================================================================================================================================================================================================================================================================================================================================================================================================================================================================] - 0s 24us/sample - loss: 0.2868 - accuracy: 0.8405\n",
      "Accuracy Model1 (Dropout): 0.8405\n",
      "Recall_score: 0.3530864197530864\n",
      "Precision_score: 0.715\n",
      "F-score: 0.4727272727272727\n"
     ]
    },
    {
     "output_type": "execute_result",
     "data": {
      "text/plain": [
       "array([[1538,   57],\n",
       "       [ 262,  143]], dtype=int64)"
      ]
     },
     "metadata": {},
     "execution_count": 70
    }
   ],
   "source": [
    "# Further scores\n",
    "Y_pred_cls = model.predict_classes(X_test, batch_size=10, verbose=0)\n",
    "print('Accuracy Model1 (Dropout): '+ str(model.evaluate(X_test,y_test.values)[1]))\n",
    "print('Recall_score: ' + str(recall_score(y_test.values,Y_pred_cls)))\n",
    "print('Precision_score: ' + str(precision_score(y_test.values, Y_pred_cls)))\n",
    "print('F-score: ' + str(f1_score(y_test.values,Y_pred_cls)))\n",
    "confusion_matrix(y_test.values, Y_pred_cls)"
   ]
  },
  {
   "source": [
    "## Conclusion"
   ],
   "cell_type": "markdown",
   "metadata": {}
  },
  {
   "source": [
    "### Using the model above the bank can now understand which ascpects of the service influence a curstimer's decision to exit the bank and thereby improve thier services"
   ],
   "cell_type": "markdown",
   "metadata": {}
  },
  {
   "cell_type": "code",
   "execution_count": null,
   "metadata": {},
   "outputs": [],
   "source": []
  }
 ]
}